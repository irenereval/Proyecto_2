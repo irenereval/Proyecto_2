{
 "cells": [
  {
   "cell_type": "markdown",
   "metadata": {},
   "source": [
    "<b>Problema </b> Calcule la corriente en el circuito electrico LRC"
   ]
  },
  {
   "cell_type": "markdown",
   "metadata": {},
   "source": [
    " <table>\n",
    "  <tr>\n",
    "    <th>DATOS</th>\n",
    "   \n",
    "  </tr>\n",
    "  <tr>\n",
    "    <td>4.7X10^(-5)[H]</td>\n",
    "   \n",
    "  </tr>\n",
    "  <tr>\n",
    "    <td>R = 10Ω</td>\n",
    "  \n",
    "  </tr>\n",
    "   <tr>\n",
    "    <td>C = .33[F]</td>\n",
    "  \n",
    "  </tr>\n",
    "     <tr>\n",
    "    <td>e(t) = 1.2 cos(20t)</td>\n",
    "  \n",
    "  </tr>\n",
    "</table> \n",
    "Considere que la carga inicial es de <b> q(0) = 1[c]</b> y corriente inicial <b>i(0) = 0[A] </b>"
   ]
  },
  {
   "cell_type": "markdown",
   "metadata": {},
   "source": [
    "$\\dot{q}  = i $"
   ]
  },
  {
   "cell_type": "markdown",
   "metadata": {},
   "source": [
    "$$ L  \\frac{d^2 q}{dt^2} + R  \\frac{dq}{dt} +  \\frac{1}{c} q =e(t) $$"
   ]
  },
  {
   "cell_type": "markdown",
   "metadata": {},
   "source": [
    "$$ L  \\frac{d^2 q}{dt^2} + R  \\frac{dq}{dt} +  \\frac{1}{c} q =0 $$"
   ]
  },
  {
   "cell_type": "markdown",
   "metadata": {},
   "source": [
    "Aplicando el cambio de variable y sustituyendo los datos "
   ]
  },
  {
   "cell_type": "markdown",
   "metadata": {},
   "source": [
    "$\\dot{i} =  -  \\frac{10}{(4.7x10^-5 )( 0.33)} q $"
   ]
  },
  {
   "cell_type": "code",
   "execution_count": 66,
   "metadata": {},
   "outputs": [],
   "source": [
    "import matplotlib.pyplot as plt\n",
    "import numpy as np\n",
    "%matplotlib inline\n",
    "from scipy.integrate import odeint"
   ]
  },
  {
   "cell_type": "code",
   "execution_count": 67,
   "metadata": {},
   "outputs": [],
   "source": [
    "def circuito(i,t,cinv,L,R):\n",
    "    q = i[0]\n",
    "    i = i[1]\n",
    "    return [i,- (10/(.000047))*i - q/((.000047)*(.33)) ]\n",
    "    "
   ]
  },
  {
   "cell_type": "markdown",
   "metadata": {},
   "source": [
    "# Condiciones iniciales"
   ]
  },
  {
   "cell_type": "code",
   "execution_count": 68,
   "metadata": {},
   "outputs": [],
   "source": [
    "i0 = [1,0]\n",
    "cinv = 3.03\n",
    "L = .000047\n",
    "R = 10"
   ]
  },
  {
   "cell_type": "code",
   "execution_count": 69,
   "metadata": {},
   "outputs": [],
   "source": [
    "tiempo = np.linspace(0,500,700)"
   ]
  },
  {
   "cell_type": "code",
   "execution_count": 70,
   "metadata": {},
   "outputs": [],
   "source": [
    "solucion = odeint(circuito, i0, tiempo, args=(cinv,L,R))"
   ]
  },
  {
   "cell_type": "code",
   "execution_count": 71,
   "metadata": {},
   "outputs": [
    {
     "data": {
      "text/plain": [
       "(700, 2)"
      ]
     },
     "execution_count": 71,
     "metadata": {},
     "output_type": "execute_result"
    }
   ],
   "source": [
    "solucion.shape"
   ]
  },
  {
   "cell_type": "code",
   "execution_count": 72,
   "metadata": {},
   "outputs": [],
   "source": [
    "carga = solucion [:,0]\n",
    "corriente = solucion [:,1]"
   ]
  },
  {
   "cell_type": "markdown",
   "metadata": {},
   "source": [
    "## Representacion sin una fuerza externa"
   ]
  },
  {
   "cell_type": "code",
   "execution_count": 97,
   "metadata": {},
   "outputs": [
    {
     "data": {
      "image/png": "[encoded data removed]",
      "text/plain": [
       "<matplotlib.figure.Figure at 0x3b586a7710>"
      ]
     },
     "metadata": {},
     "output_type": "display_data"
    }
   ],
   "source": [
    "plt.plot(tiempo, carga, c = \"r\" , lw = 1 , label = \"carga\")\n",
    "plt.plot(tiempo, corriente, c = \"b\" , lw = 1 , label = \"corriente\")\n",
    "plt.xlim(xmin = -10 , xmax = 50)\n",
    "plt.xlabel(\"tiempo\")\n",
    "plt.ylabel(\"carga-corriente\")\n",
    "plt.legend()\n",
    "plt.show()"
   ]
  },
  {
   "cell_type": "code",
   "execution_count": 74,
   "metadata": {},
   "outputs": [],
   "source": [
    "import matplotlib as mpl\n",
    "label_size = 18\n",
    "mpl.rcParams['xtick.labelsize'] = label_size \n",
    "mpl.rcParams['ytick.labelsize'] = label_size"
   ]
  },
  {
   "cell_type": "code",
   "execution_count": 75,
   "metadata": {},
   "outputs": [],
   "source": [
    "t1 = np.linspace(0,50,100)"
   ]
  },
  {
   "cell_type": "code",
   "execution_count": 76,
   "metadata": {},
   "outputs": [],
   "source": [
    "q = .9999 * np.exp(-.3030 * t1) - .00000085996 * np.exp(-212765.65 *t1) + .000090325 * np.cos(20*t1) + .0059987 * np.sin(20*t1)"
   ]
  },
  {
   "cell_type": "code",
   "execution_count": 77,
   "metadata": {},
   "outputs": [
    {
     "data": {
      "text/plain": [
       "Text(0,0.5,'carga')"
      ]
     },
     "execution_count": 77,
     "metadata": {},
     "output_type": "execute_result"
    },
    {
     "data": {
      "image/png": "[encoded data removed]",
      "text/plain": [
       "<matplotlib.figure.Figure at 0x3b586834e0>"
      ]
     },
     "metadata": {},
     "output_type": "display_data"
    }
   ],
   "source": [
    "plt.scatter(t1,q,s =10, lw=0)\n",
    "plt.title(\"carga\")\n",
    "plt.xlabel(\"tiempo\")\n",
    "plt.ylabel(\"carga\")"
   ]
  },
  {
   "cell_type": "code",
   "execution_count": 78,
   "metadata": {},
   "outputs": [],
   "source": [
    "import sympy as sym"
   ]
  },
  {
   "cell_type": "code",
   "execution_count": 85,
   "metadata": {},
   "outputs": [],
   "source": [
    "t = np.linspace(0,50,100)"
   ]
  },
  {
   "cell_type": "code",
   "execution_count": 86,
   "metadata": {},
   "outputs": [],
   "source": [
    "i1 = -0.3030 * np.exp(-0.3030 * t) + 0.1830 * np.exp(-212765.65 * t) - 0.0018065 * np.sin(20 * t) + 0.12 * np.cos(20 *  t) "
   ]
  },
  {
   "cell_type": "code",
   "execution_count": 96,
   "metadata": {},
   "outputs": [
    {
     "data": {
      "text/plain": [
       "Text(0,0.5,'corriente')"
      ]
     },
     "execution_count": 96,
     "metadata": {},
     "output_type": "execute_result"
    },
    {
     "data": {
      "image/png": "[encoded data removed]",
      "text/plain": [
       "<matplotlib.figure.Figure at 0x3b547e9400>"
      ]
     },
     "metadata": {},
     "output_type": "display_data"
    }
   ],
   "source": [
    "plt.plot(i1)\n",
    "plt.ylim(ymin = -1 , ymax = .5)\n",
    "plt.hlines(0,0,105)\n",
    "plt.title(\"corriente\")\n",
    "plt.xlabel(\"tiempo\")\n",
    "plt.ylabel(\"corriente\")\n"
   ]
  },
  {
   "cell_type": "code",
   "execution_count": null,
   "metadata": {},
   "outputs": [],
   "source": []
  },
  {
   "cell_type": "code",
   "execution_count": null,
   "metadata": {},
   "outputs": [],
   "source": []
  },
  {
   "cell_type": "code",
   "execution_count": null,
   "metadata": {},
   "outputs": [],
   "source": []
  },
  {
   "cell_type": "code",
   "execution_count": null,
   "metadata": {},
   "outputs": [],
   "source": []
  }
 ],
 "metadata": {
  "kernelspec": {
   "display_name": "Python 3",
   "language": "python",
   "name": "python3"
  },
  "language_info": {
   "codemirror_mode": {
    "name": "ipython",
    "version": 3
   },
   "file_extension": ".py",
   "mimetype": "text/x-python",
   "name": "python",
   "nbconvert_exporter": "python",
   "pygments_lexer": "ipython3",
   "version": "3.6.4"
  }
 },
 "nbformat": 4,
 "nbformat_minor": 2
}
